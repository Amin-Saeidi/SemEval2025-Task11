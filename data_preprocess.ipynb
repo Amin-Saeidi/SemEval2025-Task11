{
 "cells": [
  {
   "cell_type": "code",
   "execution_count": 79,
   "id": "238cbc42",
   "metadata": {},
   "outputs": [],
   "source": [
    "import pandas\n",
    "from elasticsearch import Elasticsearch\n",
    "import time\n",
    "from tqdm import tqdm\n",
    "from datetime import datetime, timedelta"
   ]
  },
  {
   "cell_type": "code",
   "execution_count": null,
   "id": "94d451b9",
   "metadata": {},
   "outputs": [],
   "source": [
    "elastic_address = \"\"\n",
    "try:\n",
    "    es = Elasticsearch(elastic_address)\n",
    "    print(\"Connected to Elasticsearch: %s\", es.ping())\n",
    "except Exception as error:\n",
    "    print(\"Elasticsearch connection error: %s\", error)"
   ]
  },
  {
   "cell_type": "code",
   "execution_count": null,
   "id": "38815920",
   "metadata": {},
   "outputs": [],
   "source": [
    "import json\n",
    "\n",
    "def get_posts_from_elastic(es, index_name, subject, sentiment_label, start_time):\n",
    "    \"\"\"Fetches posts from Elasticsearch, paginated by search_after.\"\"\"\n",
    "    \n",
    "    print(\"Determining correct users for each subject...\")\n",
    "\n",
    "    search_after = None\n",
    "    project_name = f\"projects.{subject}.label.keyword\"  # Use .keyword for exact match if it's a text field\n",
    "    print(project_name, sentiment_label)\n",
    "    \n",
    "    # Ensure start_time is correctly formatted\n",
    "    start_time = datetime.strptime(start_time, '%Y-%m-%dT%H:%M:%S.%fZ').strftime('%Y-%m-%d')\n",
    "\n",
    "    batch_number = 1\n",
    "    dashboard_data = []\n",
    "\n",
    "    while True:\n",
    "        print(f\"Batch Number: {batch_number}\")\n",
    "        must_clauses = [\n",
    "            {\"range\": {\"published_at\": {\"gt\": start_time}}},\n",
    "            {\"term\": {project_name: sentiment_label}},\n",
    "        ]\n",
    "        \n",
    "        query = {\n",
    "            \"size\": 1000,\n",
    "            \"track_total_hits\": True,\n",
    "            \"_source\": ['text', 'published_at', project_name],\n",
    "            \"query\": {\n",
    "                \"bool\": {\n",
    "                    \"must\": must_clauses,\n",
    "                }\n",
    "            },\n",
    "            \"sort\": [{'published_at': {\"order\": \"desc\"}}]\n",
    "        }\n",
    "        \n",
    "\n",
    "        if search_after:\n",
    "            query[\"search_after\"] = search_after\n",
    "\n",
    "        try:\n",
    "            response = es.search(index=index_name, body=query)\n",
    "        except Exception as e:\n",
    "            print(f'Exception in get_posts_from_elastic: {e}')\n",
    "            time.sleep(10)\n",
    "            continue\n",
    "\n",
    "        documents = response['hits']['hits']\n",
    "        total_hits = response['hits']['total']['value']\n",
    "        print(f\"Found {total_hits} posts\")\n",
    "\n",
    "        if not documents:\n",
    "            break\n",
    "\n",
    "        for doc in tqdm(documents, desc=\"Processing documents\"):\n",
    "            source = doc['_source']\n",
    "            dashboard_data.append([source['text']])\n",
    "\n",
    "        batch_number += 1\n",
    "        search_after = documents[-1]['sort']\n",
    "\n",
    "    if len(dashboard_data):\n",
    "        return pd.DataFrame(dashboard_data, columns=[\"Text\"])\n",
    "    else:\n",
    "        return None\n",
    "\n",
    "def convert_to_iso_format(date_str):\n",
    "    dt = datetime.strptime(date_str, \"%Y/%m/%d %H:%M\")\n",
    "    # Convert to ISO 8601 format '2024-09-06T15:14:00.000Z'\n",
    "    return dt.strftime(\"%Y-%m-%dT%H:%M:%S.%f\")[:-3] + 'Z'\n",
    "\n",
    "\n",
    "current_datetime = datetime.now() #- timedelta(days=50)\n",
    "yesterday_datetime = current_datetime - timedelta(days=5)\n",
    "yesterday_datetime_str = yesterday_datetime.strftime(\"%Y/%m/%d %H:%M\")\n",
    "current_datetime_str = current_datetime.strftime(\"%Y/%m/%d %H:%M\")\n",
    "s_time = convert_to_iso_format(yesterday_datetime_str)\n",
    "\n",
    "subject = 'Emotion'\n",
    "index_name = 'tweet_index'\n",
    "sentiment_label_1 = 'FEAR'\n",
    "sentiment_label_2 = 'SURPRISE'\n",
    "dataset_df = get_posts_from_elastic(es, index_name, subject, sentiment_label_1, s_time)\n",
    "print(dataset_df.shape)"
   ]
  },
  {
   "cell_type": "code",
   "execution_count": null,
   "id": "20ee957f",
   "metadata": {},
   "outputs": [],
   "source": [
    "import requests\n",
    "import pandas as pd\n",
    "import csv\n",
    "import ast\n",
    "\n",
    "def deep_seek_sentiment_labeling(text, deep_seek_url=\"\"):\n",
    "    \"\"\"Label the sentiment of the text based on predefined rules.\"\"\"\n",
    "    \n",
    "    url = deep_seek_url\n",
    "\n",
    "    headers = {\n",
    "        'Content-Type': 'application/json'\n",
    "    }\n",
    "\n",
    "    prompt = f'''\n",
    "    You are an expert in sentiment analysis and emotion classification.\n",
    "    Your task is to analyze the following text and return a vector of length 6,\n",
    "    where each element corresponds to one of the following sentiments: \"anger\", \"disgust\", \"fear\", \"joy\", \"sadness\", and \"surprise\".\n",
    "\n",
    "    The vector should follow these rules:\n",
    "    1. There can be a maximum of two sentiments in each sentence.\n",
    "    2. For each sentiment, label it as 1 if it is present in the text, and 0 if it is not.\n",
    "    3. The emotions to classify are: \"anger\", \"disgust\", \"fear\", \"joy\", \"sadness\", \"surprise\".\n",
    "\n",
    "    Examples:\n",
    "    Example 1: Etv ዘረኛ ናቹሁ አሽቃባጭ ስንት አባቶቻችን መስዋት የሆኑበትን ባዲራ እያቃጠላቹሁ አሁን በዚህ አዲስ ባዲራ አገሯን ታባላላላቹሁ ለጊዜው ፈጩ ችግር የለም ግን ,? \n",
    "    Emotion vector: [1, 1, 0, 0, 0, 0]\n",
    "    \n",
    "    Example 2: የዛሬው የጦጣ ንክሻ ይለያል ክክ አይ ፊሊፖስ አንተ ጅማታም እንድህ ቅጥል ስትል ደስ ይለኛል \n",
    "    Emotion vector: [0, 1, 0, 1, 0, 0]\n",
    "\n",
    "    Example 3: ኢሄ ፕራንክ ሚባል ነገር ቅጥ አጣ አሁንስ  \n",
    "    Emotion vector: [1, 1, 0, 0, 0, 0]\n",
    "    \n",
    "    Example 4: መንጌ ጠላቱ ባለጌ እሱ ግን ይኖራል ለኢትዮጵያ ሁል ጊ ዜ\n",
    "    Emotion vector: [0, 0, 0, 0, 0, 0]\n",
    "    \n",
    "    Example 5: ልጆችን ለሚዲያ መሸቀጫ ማዋል የሰው አይን እንዲገቡ ፀፀቱ እንዲጎዳን ያደርጋል ያሳዝናል ነገሩ ከዚህ ልንማር ይገባል ነፍስ ይማር\n",
    "    Emotion vector: [0, 0, 0, 0, 0, 1]\n",
    "    \n",
    "    Example 6:ፍቅረኛውን የገደለው አሜሪካዊ ታዳኝ ከኬንያ የፖሊስ ቁጥጥር ስር አመለጠ\n",
    "    Emotion vector: [0, 0, 0, 0, 0, 0]\n",
    "    \n",
    "    Example 7:አለም እስካሁን በአገኘው አጋጣሚ ሁሉ እስራኤላውያንን በእጅጉ በድሏል አሁን ላይ ግን ያ አይቻልም እስራኤልን መንካት ምን ያክል ዋጋ እንደሚያስከፍል ሁሉም ቅጣቱን ይቀምሳል እስራኤል ወደ ፊት\n",
    "    Emotion vector: [1, 0, 0, 0, 0, 0]\n",
    "    \n",
    "    For example, a text that expresses both fear and surprise might return something like:  \n",
    "    Emotion vector: [1, 0, 0, 0, 1, 0] (fear and surprise are present, others are not).\n",
    "\n",
    "    Now, analyze the following text and provide **only the emotion vector** (a list of 6 numbers) with no additional explanation or text:\n",
    "    Text: {text}\n",
    "    Emotion vector: \n",
    "    '''\n",
    "    \n",
    "    data = {\n",
    "        \"model\": \"\",\n",
    "        \"messages\": [\n",
    "            {\"role\": \"user\", \"content\": prompt}\n",
    "        ],\n",
    "        \"temperature\": 0,  \n",
    "        \"max_tokens\": 40 \n",
    "    }\n",
    "    \n",
    "    response = requests.post(url, headers=headers, json=data)\n",
    "\n",
    "    try:\n",
    "        label = response.json()['choices'][0]['message']['content']\n",
    "    except KeyError:\n",
    "        label = \"Error\"\n",
    "\n",
    "    print(\"text:\", text)\n",
    "    print(\"label:\", label)\n",
    "    return label\n",
    "\n",
    "\n",
    "def label_texts_and_save(df, output_file):\n",
    "    \"\"\"Iterates over the DataFrame, labels each text, and saves each row to a CSV file.\"\"\"\n",
    "    \n",
    "    with open(output_file, mode='a', newline='', encoding='utf-8') as file:\n",
    "        writer = csv.writer(file)\n",
    "        writer.writerow([\"text\", \"anger\", \"disgust\", \"fear\", \"joy\", \"sadness\", \"surprise\"])  # Write header if needed\n",
    "    \n",
    "        for index, row in df.iterrows():\n",
    "            try:\n",
    "                text = row['tweet']\n",
    "                label_str = deep_seek_sentiment_labeling(text)\n",
    "                \n",
    "                # Convert string representation of list to an actual list\n",
    "                label_list = ast.literal_eval(label_str.split(': ')[1]) if ':' in label_str else ast.literal_eval(label_str)\n",
    "                \n",
    "                writer.writerow([text] + label_list)  # Save each row immediately\n",
    "                print(f\"Processed row {index + 1}/{len(df)}\")\n",
    "\n",
    "            except ConnectionError as e:\n",
    "                print(f\"ConnectionError encountered at row {index}: {e}. Sleeping for 5 minutes.\")\n",
    "                time.sleep(300)  # Sleep for 5 minutes\n",
    "                continue \n",
    "\n",
    "            except Exception as e:\n",
    "                print(f\"Unexpected error encountered at row {index}: {e}.\")\n",
    "                \n",
    "amharic_tweet_df = pd.read_csv(r\"train.csv\")\n",
    "\n",
    "output_path = r\"repo_amharic_train.csv\"\n",
    "label_texts_and_save(amharic_tweet_df[:2000], output_path)"
   ]
  },
  {
   "cell_type": "code",
   "execution_count": 4,
   "id": "861e5bb6",
   "metadata": {},
   "outputs": [],
   "source": [
    "def clean_df(df):\n",
    "    df = df.dropna()\n",
    "    df = df.drop_duplicates(subset='text', keep=\"first\")\n",
    "    df = df.reset_index(drop=True)\n",
    "    return df\n",
    "\n",
    "lab_deepseek_df = clean_df(lab_deepseek_df)\n",
    "lab_deepseek_df.shape"
   ]
  },
  {
   "cell_type": "code",
   "execution_count": 6,
   "id": "cf178106",
   "metadata": {},
   "outputs": [
    {
     "data": {
      "text/plain": [
       "(1750, 7)"
      ]
     },
     "execution_count": 6,
     "metadata": {},
     "output_type": "execute_result"
    }
   ],
   "source": [
    "import re\n",
    "def clean_text(row, options):\n",
    "    if options['lowercase']:\n",
    "        row = row.lower()\n",
    "\n",
    "    if options['remove_url']:\n",
    "        row = re.sub(r\"(?:\\@|https?\\://)\\S+\", \"\", row)\n",
    "\n",
    "    if options['remove_mentions']:\n",
    "        row = re.sub(\"@[A-Za-z0-9_]+\",\"\", row)\n",
    "\n",
    "    if options['demojify']:\n",
    "          emoj = re.compile(\"[\"\n",
    "            u\"\\U0001F600-\\U0001F64F\"  # emoticons\n",
    "            u\"\\U0001F300-\\U0001F5FF\"  # symbols & pictographs\n",
    "            u\"\\U0001F680-\\U0001F6FF\"  # transport & map symbols\n",
    "            u\"\\U0001F1E0-\\U0001F1FF\"  # flags (iOS)\n",
    "            u\"\\U00002500-\\U00002BEF\"  # chinese char\n",
    "            u\"\\U00002702-\\U000027B0\"\n",
    "            u\"\\U00002702-\\U000027B0\"\n",
    "            u\"\\U000024C2-\\U0001F251\"\n",
    "            u\"\\U0001f926-\\U0001f937\"\n",
    "            u\"\\U00010000-\\U0010ffff\"\n",
    "            u\"\\u2640-\\u2642\" \n",
    "            u\"\\u2600-\\u2B55\"\n",
    "            u\"\\u200d\"\n",
    "            u\"\\u23cf\"\n",
    "            u\"\\u23e9\"\n",
    "            u\"\\u231a\"\n",
    "            u\"\\ufe0f\"  # dingbats\n",
    "            u\"\\u3030\"\n",
    "                          \"]+\", re.UNICODE)\n",
    "    row = re.sub(emoj, '', row)\n",
    "    return row\n",
    "\n",
    "clean_config = {\n",
    "    'remove_url': True,\n",
    "    'remove_mentions': True,\n",
    "    'lowercase': True,\n",
    "    'demojify': True\n",
    "    }\n",
    "\n",
    "lab_deepseek_df['text'] = lab_deepseek_df['text'].apply(clean_text, args=(clean_config,))\n",
    "lab_deepseek_df.head()"
   ]
  },
  {
   "cell_type": "code",
   "execution_count": 111,
   "id": "45db81ad",
   "metadata": {},
   "outputs": [
    {
     "name": "stdout",
     "output_type": "stream",
     "text": [
      "Data saved to output.csv\n"
     ]
    }
   ],
   "source": [
    "import pandas as pd\n",
    "import ast\n",
    "\n",
    "# Read the CSV file into a DataFrame\n",
    "df = pd.read_csv(r\"semivalcreate_dataset\\fear.csv\")\n",
    "\n",
    "# Remove any leading or trailing spaces or unwanted characters in the 'Label' column\n",
    "df['Label'] = df['Label'].str.strip()\n",
    "\n",
    "# Optionally, clean up malformed strings (if you know the pattern)\n",
    "df['Label'] = df['Label'].apply(lambda x: x if x.startswith('[') and x.endswith(']') else '[]')\n",
    "\n",
    "# Now apply ast.literal_eval to safely convert string to a list\n",
    "df['Label'] = df['Label'].apply(ast.literal_eval)\n",
    "\n",
    "# Emotion column names\n",
    "emotion_columns = [\"fear\", \"disgust\", \"joy\", \"sadness\", \"surprise\", \"anger\"]\n",
    "\n",
    "# Expand the 'Label' column into separate emotion columns\n",
    "emotion_df = pd.DataFrame(df['Label'].tolist(), columns=emotion_columns)\n",
    "\n",
    "# Concatenate the new emotion columns with the original DataFrame (if needed)\n",
    "df = pd.concat([df, emotion_df], axis=1)\n",
    "\n",
    "# Drop the original 'Label' column if no longer needed\n",
    "df = df.drop(columns=['Label'])\n",
    "\n",
    "# Save the DataFrame with the new columns to a CSV file\n",
    "df.to_csv(\"output.csv\", index=False)\n",
    "\n",
    "print(\"Data saved to output.csv\")\n"
   ]
  },
  {
   "cell_type": "code",
   "execution_count": null,
   "id": "62ad190f",
   "metadata": {},
   "outputs": [],
   "source": [
    "import pandas as pd\n",
    "\n",
    "sentiment_columns = [\"joy\", \"anger\", \"fear\", \"disgust\", \"sadness\", \"surprise\"]\n",
    "\n",
    "def filter_dataframe(df):\n",
    "    # Iterate through each row\n",
    "    df = df[(df['Text'].apply(len) > 80) & (df['Text'].apply(len) < 300)]\n",
    "    \n",
    "    for col in sentiment_columns:\n",
    "        df[col] = df[col].astype(int)\n",
    "\n",
    "    for col in sentiment_columns:\n",
    "        df = df[df[col] <= 1] \n",
    "\n",
    "    return df\n",
    "\n",
    "df = filter_dataframe(df)\n",
    "\n",
    "print(df.shape)\n",
    "\n",
    "df.to_csv(\"filtered_semival_train_output.csv\", encoding = 'utf-8-sig', index=False)\n"
   ]
  },
  {
   "cell_type": "code",
   "execution_count": null,
   "id": "71084b2b",
   "metadata": {},
   "outputs": [],
   "source": [
    "import requests\n",
    "import pandas as pd\n",
    "import time\n",
    "from tqdm import tqdm\n",
    "\n",
    "def deep_seek_sentiment_labeling(text, deep_seek_urls=\"\"):\n",
    "    \"\"\"Label the sentiment of the text based on predefined rules.\"\"\"\n",
    "    \n",
    "    url = deep_seek_urls\n",
    "\n",
    "    headers = {\n",
    "        'Content-Type': 'application/json'\n",
    "    }\n",
    "\n",
    "    prompt = f'''\n",
    "    You are an expert translator specializing in converting text from Persian, English, and French into Amharic. Your task is to accurately translate the following text into Amharic while following these guidelines:\n",
    "\n",
    "    1. Do not translate or include any text containing hashtags (#) or URLs; remove them from the output.\n",
    "    2. Ensure that the translation maintains the original meaning and context.\n",
    "\n",
    "    Text: {text}  \n",
    "    Translated Amharic Text:\n",
    "    '''\n",
    "\n",
    "    data = {\n",
    "        \"model\": \"\",\n",
    "        \"messages\": [\n",
    "            {\"role\": \"user\", \"content\": prompt}\n",
    "        ],\n",
    "        \"temperature\": 0,  \n",
    "        \"max_tokens\": 600 \n",
    "    }\n",
    "    \n",
    "    response = requests.post(url, headers=headers, json=data)\n",
    "\n",
    "    try:\n",
    "        label = response.json()['choices'][0]['message']['content']\n",
    "    except (KeyError, IndexError):\n",
    "        label = \"Error\"\n",
    "\n",
    "    return label\n",
    "\n",
    "def label_texts_and_save(amh_df, save_path):\n",
    "    \"\"\"Iterates over the DataFrame and applies the labeling function to each text,\n",
    "    saving the result incrementally after each row.\"\"\"\n",
    "    \n",
    "    with open(save_path, mode='w', encoding='utf-8-sig', newline='') as f:\n",
    "        amh_df.iloc[0:0].to_csv(f, index=False) \n",
    "\n",
    "    for index, row in tqdm(amh_df.iterrows(), total=len(amh_df), desc=\"Processing\"):\n",
    "        try:\n",
    "            translated_text = deep_seek_sentiment_labeling(row['Text'])\n",
    "            new_row = row.to_dict()\n",
    "            new_row['translated_amhric'] = translated_text\n",
    "            pd.DataFrame([new_row]).to_csv(save_path, mode='a', header=False, index=False, encoding='utf-8-sig')\n",
    "\n",
    "        except ConnectionError as e:\n",
    "            print(f\"ConnectionError encountered at row {index}: {e}. Sleeping for 5 minutes.\")\n",
    "            time.sleep(300)  # Sleep for 5 minutes\n",
    "            continue \n",
    "            \n",
    "        except Exception as e:\n",
    "            print(f\"Unexpected error encountered at row {index}: {e}.\")            \n",
    "    return amh_df\n",
    "\n",
    "# Load your DataFrame\n",
    "save_path = r\"amharic_deepseek_fear.csv\"\n",
    "df = pd.read_csv(\"filtered_semival_train_output.csv\")\n",
    "print(df.shape)\n",
    "amh_df = label_texts_and_save(df[330:], save_path)\n",
    "amh_df.to_csv(r\"amharic_deepseek_fear.csv\")"
   ]
  },
  {
   "cell_type": "code",
   "execution_count": 11,
   "id": "7f783318",
   "metadata": {},
   "outputs": [],
   "source": [
    "df_conf = pd.read_csv(r\"amh_train_translated.csv\")"
   ]
  },
  {
   "cell_type": "code",
   "execution_count": 12,
   "id": "d346fbcf",
   "metadata": {},
   "outputs": [
    {
     "data": {
      "text/html": [
       "<div>\n",
       "<style scoped>\n",
       "    .dataframe tbody tr th:only-of-type {\n",
       "        vertical-align: middle;\n",
       "    }\n",
       "\n",
       "    .dataframe tbody tr th {\n",
       "        vertical-align: top;\n",
       "    }\n",
       "\n",
       "    .dataframe thead th {\n",
       "        text-align: right;\n",
       "    }\n",
       "</style>\n",
       "<table border=\"1\" class=\"dataframe\">\n",
       "  <thead>\n",
       "    <tr style=\"text-align: right;\">\n",
       "      <th></th>\n",
       "      <th>Unnamed: 0</th>\n",
       "      <th>id</th>\n",
       "      <th>text</th>\n",
       "      <th>anger</th>\n",
       "      <th>disgust</th>\n",
       "      <th>fear</th>\n",
       "      <th>joy</th>\n",
       "      <th>sadness</th>\n",
       "      <th>surprise</th>\n",
       "      <th>translated_text</th>\n",
       "    </tr>\n",
       "  </thead>\n",
       "  <tbody>\n",
       "    <tr>\n",
       "      <th>0</th>\n",
       "      <td>0</td>\n",
       "      <td>amh_train_track_a_00001</td>\n",
       "      <td>እናንተ መቸም አትማሩም ምድረ አውሬ ሁላ።</td>\n",
       "      <td>1</td>\n",
       "      <td>1</td>\n",
       "      <td>0</td>\n",
       "      <td>0</td>\n",
       "      <td>0</td>\n",
       "      <td>0</td>\n",
       "      <td>شما هرگز یاد نمی‌گیرید، ای سرزمین وحشیان.</td>\n",
       "    </tr>\n",
       "    <tr>\n",
       "      <th>1</th>\n",
       "      <td>1</td>\n",
       "      <td>amh_train_track_a_00002</td>\n",
       "      <td>ምነው የዶክተር እስራኤል ጥላሁን ሞት በዝምታ አለፋችሁት ባለስልጣን ስለሆ...</td>\n",
       "      <td>1</td>\n",
       "      <td>1</td>\n",
       "      <td>0</td>\n",
       "      <td>0</td>\n",
       "      <td>0</td>\n",
       "      <td>0</td>\n",
       "      <td>چرا سکوت کردید در برابر مرگ دکتر اسرائیل تلاون...</td>\n",
       "    </tr>\n",
       "    <tr>\n",
       "      <th>2</th>\n",
       "      <td>2</td>\n",
       "      <td>amh_train_track_a_00003</td>\n",
       "      <td>እንዲሁም ይህ እጅግ እርሶን የሚወዶት እና እጅግም የሚሳሳልዎን የአዲስአበ...</td>\n",
       "      <td>0</td>\n",
       "      <td>0</td>\n",
       "      <td>0</td>\n",
       "      <td>0</td>\n",
       "      <td>0</td>\n",
       "      <td>0</td>\n",
       "      <td>همچنین، به دلیل اینکه این کار مردم آدیس آبابا ...</td>\n",
       "    </tr>\n",
       "    <tr>\n",
       "      <th>3</th>\n",
       "      <td>3</td>\n",
       "      <td>amh_train_track_a_00004</td>\n",
       "      <td>Etv ዘረኛ ናቹሁ አሽቃባጭ ስንት አባቶቻችን መስዋት የሆኑበትን ባዲራ እ...</td>\n",
       "      <td>1</td>\n",
       "      <td>1</td>\n",
       "      <td>0</td>\n",
       "      <td>0</td>\n",
       "      <td>0</td>\n",
       "      <td>0</td>\n",
       "      <td>Etv شما نژادپرستان و خائنین، چندین پدران ما را...</td>\n",
       "    </tr>\n",
       "    <tr>\n",
       "      <th>4</th>\n",
       "      <td>4</td>\n",
       "      <td>amh_train_track_a_00005</td>\n",
       "      <td>የዛሬው የጦጣ ንክሻ ይለያል ክክ አይ ፊሊፖስ አንተ ጅማታም እንድህ ቅጥል...</td>\n",
       "      <td>0</td>\n",
       "      <td>1</td>\n",
       "      <td>0</td>\n",
       "      <td>1</td>\n",
       "      <td>0</td>\n",
       "      <td>0</td>\n",
       "      <td>امروز بازی جذاب خواهد بود، ای فیلیپس، وقتی این...</td>\n",
       "    </tr>\n",
       "  </tbody>\n",
       "</table>\n",
       "</div>"
      ],
      "text/plain": [
       "   Unnamed: 0                       id  \\\n",
       "0           0  amh_train_track_a_00001   \n",
       "1           1  amh_train_track_a_00002   \n",
       "2           2  amh_train_track_a_00003   \n",
       "3           3  amh_train_track_a_00004   \n",
       "4           4  amh_train_track_a_00005   \n",
       "\n",
       "                                                text  anger  disgust  fear  \\\n",
       "0                         እናንተ መቸም አትማሩም ምድረ አውሬ ሁላ።      1        1     0   \n",
       "1  ምነው የዶክተር እስራኤል ጥላሁን ሞት በዝምታ አለፋችሁት ባለስልጣን ስለሆ...      1        1     0   \n",
       "2  እንዲሁም ይህ እጅግ እርሶን የሚወዶት እና እጅግም የሚሳሳልዎን የአዲስአበ...      0        0     0   \n",
       "3  Etv ዘረኛ ናቹሁ አሽቃባጭ ስንት አባቶቻችን መስዋት የሆኑበትን ባዲራ እ...      1        1     0   \n",
       "4  የዛሬው የጦጣ ንክሻ ይለያል ክክ አይ ፊሊፖስ አንተ ጅማታም እንድህ ቅጥል...      0        1     0   \n",
       "\n",
       "   joy  sadness  surprise                                    translated_text  \n",
       "0    0        0         0          شما هرگز یاد نمی‌گیرید، ای سرزمین وحشیان.  \n",
       "1    0        0         0  چرا سکوت کردید در برابر مرگ دکتر اسرائیل تلاون...  \n",
       "2    0        0         0  همچنین، به دلیل اینکه این کار مردم آدیس آبابا ...  \n",
       "3    0        0         0  Etv شما نژادپرستان و خائنین، چندین پدران ما را...  \n",
       "4    1        0         0  امروز بازی جذاب خواهد بود، ای فیلیپس، وقتی این...  "
      ]
     },
     "execution_count": 12,
     "metadata": {},
     "output_type": "execute_result"
    }
   ],
   "source": [
    "df_conf.head()"
   ]
  },
  {
   "cell_type": "code",
   "execution_count": 50,
   "id": "79615fc5",
   "metadata": {},
   "outputs": [
    {
     "data": {
      "text/plain": [
       "Index(['Unnamed: 0', 'translated_text', 'fear', 'disgust', 'joy', 'sadness',\n",
       "       'surprise', 'anger', 'Text'],\n",
       "      dtype='object')"
      ]
     },
     "execution_count": 50,
     "metadata": {},
     "output_type": "execute_result"
    }
   ],
   "source": [
    "main_df = main_df.rename(columns = {'text':'Text'})\n",
    "main_df.columns"
   ]
  },
  {
   "cell_type": "code",
   "execution_count": 32,
   "id": "17490a28",
   "metadata": {},
   "outputs": [],
   "source": [
    "df_conf = df_conf.drop(columns = ['id'])"
   ]
  },
  {
   "cell_type": "code",
   "execution_count": 33,
   "id": "0d20b359",
   "metadata": {},
   "outputs": [
    {
     "data": {
      "text/plain": [
       "(4636, 10)"
      ]
     },
     "execution_count": 33,
     "metadata": {},
     "output_type": "execute_result"
    }
   ],
   "source": [
    "final_df = pd.concat([df_conf, main_df])\n",
    "\n",
    "final_df.shape\n"
   ]
  },
  {
   "cell_type": "code",
   "execution_count": 34,
   "id": "4b3ff0e4",
   "metadata": {},
   "outputs": [],
   "source": [
    "final_df.to_csv(r\"amharic_deepseek_final_train_df.csv\", encoding='utf-8-sig')"
   ]
  },
  {
   "cell_type": "code",
   "execution_count": 35,
   "id": "86e6805b",
   "metadata": {},
   "outputs": [
    {
     "data": {
      "text/plain": [
       "0    3729\n",
       "1     907\n",
       "Name: fear, dtype: int64"
      ]
     },
     "execution_count": 35,
     "metadata": {},
     "output_type": "execute_result"
    }
   ],
   "source": [
    "final_df['fear'].value_counts()"
   ]
  },
  {
   "cell_type": "code",
   "execution_count": 36,
   "id": "d904d599",
   "metadata": {},
   "outputs": [
    {
     "data": {
      "text/plain": [
       "0    4298\n",
       "1     338\n",
       "Name: surprise, dtype: int64"
      ]
     },
     "execution_count": 36,
     "metadata": {},
     "output_type": "execute_result"
    }
   ],
   "source": [
    "final_df['surprise'].value_counts()"
   ]
  },
  {
   "cell_type": "code",
   "execution_count": 37,
   "id": "ab8f9576",
   "metadata": {},
   "outputs": [
    {
     "data": {
      "text/plain": [
       "Index(['Unnamed: 0', 'text', 'anger', 'disgust', 'fear', 'joy', 'sadness',\n",
       "       'surprise', 'translated_text', 'Text'],\n",
       "      dtype='object')"
      ]
     },
     "execution_count": 37,
     "metadata": {},
     "output_type": "execute_result"
    }
   ],
   "source": [
    "final_df.columns"
   ]
  },
  {
   "cell_type": "code",
   "execution_count": 61,
   "id": "d354f0a3",
   "metadata": {},
   "outputs": [
    {
     "data": {
      "text/plain": [
       "Index(['Unnamed: 0', 'translated_text', 'fear', 'disgust', 'joy', 'sadness',\n",
       "       'surprise', 'anger', 'Text'],\n",
       "      dtype='object')"
      ]
     },
     "execution_count": 61,
     "metadata": {},
     "output_type": "execute_result"
    }
   ],
   "source": [
    "main_df.columns"
   ]
  },
  {
   "cell_type": "code",
   "execution_count": 14,
   "id": "097a7596",
   "metadata": {},
   "outputs": [],
   "source": [
    "df_conf = df_conf.drop(columns = ['id'])"
   ]
  },
  {
   "cell_type": "code",
   "execution_count": 17,
   "id": "9f788f2d",
   "metadata": {},
   "outputs": [
    {
     "data": {
      "text/html": [
       "<div>\n",
       "<style scoped>\n",
       "    .dataframe tbody tr th:only-of-type {\n",
       "        vertical-align: middle;\n",
       "    }\n",
       "\n",
       "    .dataframe tbody tr th {\n",
       "        vertical-align: top;\n",
       "    }\n",
       "\n",
       "    .dataframe thead th {\n",
       "        text-align: right;\n",
       "    }\n",
       "</style>\n",
       "<table border=\"1\" class=\"dataframe\">\n",
       "  <thead>\n",
       "    <tr style=\"text-align: right;\">\n",
       "      <th></th>\n",
       "      <th>Unnamed: 0</th>\n",
       "      <th>translated_text</th>\n",
       "      <th>fear</th>\n",
       "      <th>disgust</th>\n",
       "      <th>joy</th>\n",
       "      <th>sadness</th>\n",
       "      <th>surprise</th>\n",
       "      <th>anger</th>\n",
       "      <th>text</th>\n",
       "    </tr>\n",
       "  </thead>\n",
       "  <tbody>\n",
       "    <tr>\n",
       "      <th>0</th>\n",
       "      <td>0</td>\n",
       "      <td>شما هرگز یاد نمی‌گیرید، ای سرزمین وحشیان.</td>\n",
       "      <td>0</td>\n",
       "      <td>1</td>\n",
       "      <td>0</td>\n",
       "      <td>0</td>\n",
       "      <td>0</td>\n",
       "      <td>1</td>\n",
       "      <td>እናንተ መቸም አትማሩም ምድረ አውሬ ሁላ።</td>\n",
       "    </tr>\n",
       "    <tr>\n",
       "      <th>1</th>\n",
       "      <td>1</td>\n",
       "      <td>چرا سکوت کردید در برابر مرگ دکتر اسرائیل تلاون...</td>\n",
       "      <td>0</td>\n",
       "      <td>1</td>\n",
       "      <td>0</td>\n",
       "      <td>0</td>\n",
       "      <td>0</td>\n",
       "      <td>1</td>\n",
       "      <td>ምነው የዶክተር እስራኤል ጥላሁን ሞት በዝምታ አለፋችሁት ባለስልጣን ስለሆ...</td>\n",
       "    </tr>\n",
       "    <tr>\n",
       "      <th>2</th>\n",
       "      <td>2</td>\n",
       "      <td>همچنین، به دلیل اینکه این کار مردم آدیس آبابا ...</td>\n",
       "      <td>0</td>\n",
       "      <td>0</td>\n",
       "      <td>0</td>\n",
       "      <td>0</td>\n",
       "      <td>0</td>\n",
       "      <td>0</td>\n",
       "      <td>እንዲሁም ይህ እጅግ እርሶን የሚወዶት እና እጅግም የሚሳሳልዎን የአዲስአበ...</td>\n",
       "    </tr>\n",
       "    <tr>\n",
       "      <th>3</th>\n",
       "      <td>3</td>\n",
       "      <td>Etv شما نژادپرستان و خائنین، چندین پدران ما را...</td>\n",
       "      <td>0</td>\n",
       "      <td>1</td>\n",
       "      <td>0</td>\n",
       "      <td>0</td>\n",
       "      <td>0</td>\n",
       "      <td>1</td>\n",
       "      <td>Etv ዘረኛ ናቹሁ አሽቃባጭ ስንት አባቶቻችን መስዋት የሆኑበትን ባዲራ እ...</td>\n",
       "    </tr>\n",
       "    <tr>\n",
       "      <th>4</th>\n",
       "      <td>4</td>\n",
       "      <td>امروز بازی جذاب خواهد بود، ای فیلیپس، وقتی این...</td>\n",
       "      <td>0</td>\n",
       "      <td>1</td>\n",
       "      <td>1</td>\n",
       "      <td>0</td>\n",
       "      <td>0</td>\n",
       "      <td>0</td>\n",
       "      <td>የዛሬው የጦጣ ንክሻ ይለያል ክክ አይ ፊሊፖስ አንተ ጅማታም እንድህ ቅጥል...</td>\n",
       "    </tr>\n",
       "  </tbody>\n",
       "</table>\n",
       "</div>"
      ],
      "text/plain": [
       "   Unnamed: 0                                    translated_text  fear  \\\n",
       "0           0          شما هرگز یاد نمی‌گیرید، ای سرزمین وحشیان.     0   \n",
       "1           1  چرا سکوت کردید در برابر مرگ دکتر اسرائیل تلاون...     0   \n",
       "2           2  همچنین، به دلیل اینکه این کار مردم آدیس آبابا ...     0   \n",
       "3           3  Etv شما نژادپرستان و خائنین، چندین پدران ما را...     0   \n",
       "4           4  امروز بازی جذاب خواهد بود، ای فیلیپس، وقتی این...     0   \n",
       "\n",
       "   disgust  joy  sadness  surprise  anger  \\\n",
       "0        1    0        0         0      1   \n",
       "1        1    0        0         0      1   \n",
       "2        0    0        0         0      0   \n",
       "3        1    0        0         0      1   \n",
       "4        1    1        0         0      0   \n",
       "\n",
       "                                                text  \n",
       "0                         እናንተ መቸም አትማሩም ምድረ አውሬ ሁላ።  \n",
       "1  ምነው የዶክተር እስራኤል ጥላሁን ሞት በዝምታ አለፋችሁት ባለስልጣን ስለሆ...  \n",
       "2  እንዲሁም ይህ እጅግ እርሶን የሚወዶት እና እጅግም የሚሳሳልዎን የአዲስአበ...  \n",
       "3  Etv ዘረኛ ናቹሁ አሽቃባጭ ስንት አባቶቻችን መስዋት የሆኑበትን ባዲራ እ...  \n",
       "4  የዛሬው የጦጣ ንክሻ ይለያል ክክ አይ ፊሊፖስ አንተ ጅማታም እንድህ ቅጥል...  "
      ]
     },
     "execution_count": 17,
     "metadata": {},
     "output_type": "execute_result"
    }
   ],
   "source": [
    "df_conf = df_conf[['Unnamed: 0', 'translated_text', 'fear', 'disgust', 'joy', 'sadness', \n",
    "                   'surprise', 'anger', 'text']]\n",
    "\n",
    "df_conf.head()"
   ]
  },
  {
   "cell_type": "code",
   "execution_count": 67,
   "id": "2734dd7b",
   "metadata": {},
   "outputs": [
    {
     "data": {
      "text/plain": [
       "(4636, 9)"
      ]
     },
     "execution_count": 67,
     "metadata": {},
     "output_type": "execute_result"
    }
   ],
   "source": [
    "final_df = pd.concat([df_conf, main_df])\n",
    "\n",
    "final_df.shape"
   ]
  },
  {
   "cell_type": "code",
   "execution_count": 70,
   "id": "f15b38aa",
   "metadata": {},
   "outputs": [
    {
     "data": {
      "text/plain": [
       "Index(['Unnamed: 0', 'translated_text', 'fear', 'disgust', 'joy', 'sadness',\n",
       "       'surprise', 'anger', 'text'],\n",
       "      dtype='object')"
      ]
     },
     "execution_count": 70,
     "metadata": {},
     "output_type": "execute_result"
    }
   ],
   "source": [
    "final_df = final_df.rename(columns = {'Text':'text'})\n",
    "final_df.columns"
   ]
  },
  {
   "cell_type": "code",
   "execution_count": 71,
   "id": "4aabeeae",
   "metadata": {},
   "outputs": [],
   "source": [
    "final_df.to_csv(r\"amharic_deepseek_final_train_df.csv\", encoding='utf-8-sig')"
   ]
  },
  {
   "cell_type": "code",
   "execution_count": 17,
   "id": "265a22d8",
   "metadata": {},
   "outputs": [],
   "source": [
    "lab_deepseek_df = lab_deepseek_df.rename(columns = {'text':'Text'})"
   ]
  },
  {
   "cell_type": "code",
   "execution_count": 9,
   "id": "c54574c0",
   "metadata": {},
   "outputs": [
    {
     "data": {
      "text/html": [
       "<div>\n",
       "<style scoped>\n",
       "    .dataframe tbody tr th:only-of-type {\n",
       "        vertical-align: middle;\n",
       "    }\n",
       "\n",
       "    .dataframe tbody tr th {\n",
       "        vertical-align: top;\n",
       "    }\n",
       "\n",
       "    .dataframe thead th {\n",
       "        text-align: right;\n",
       "    }\n",
       "</style>\n",
       "<table border=\"1\" class=\"dataframe\">\n",
       "  <thead>\n",
       "    <tr style=\"text-align: right;\">\n",
       "      <th></th>\n",
       "      <th>text</th>\n",
       "      <th>anger</th>\n",
       "      <th>disgust</th>\n",
       "      <th>fear</th>\n",
       "      <th>joy</th>\n",
       "      <th>sadness</th>\n",
       "      <th>surprise</th>\n",
       "    </tr>\n",
       "  </thead>\n",
       "  <tbody>\n",
       "    <tr>\n",
       "      <th>0</th>\n",
       "      <td>በሞጣ በተከሰተው ነገር አልገረምም እስካሁን ከበቂ በላይ ለፍልፌ ነበር ሕ...</td>\n",
       "      <td>0</td>\n",
       "      <td>1</td>\n",
       "      <td>0</td>\n",
       "      <td>0</td>\n",
       "      <td>0</td>\n",
       "      <td>0</td>\n",
       "    </tr>\n",
       "    <tr>\n",
       "      <th>1</th>\n",
       "      <td>ሰላም ለምድራችን ይሁን!\\nአንዳንዴ ዝም በማለትና ወሬ ባለማራገብ የሀገራ...</td>\n",
       "      <td>0</td>\n",
       "      <td>0</td>\n",
       "      <td>0</td>\n",
       "      <td>1</td>\n",
       "      <td>0</td>\n",
       "      <td>0</td>\n",
       "    </tr>\n",
       "    <tr>\n",
       "      <th>2</th>\n",
       "      <td>\"could you beloved\" የሚለውን የቦብ ማርሊይ ዘፈንን \"ፒቺንኪ...</td>\n",
       "      <td>0</td>\n",
       "      <td>1</td>\n",
       "      <td>0</td>\n",
       "      <td>1</td>\n",
       "      <td>0</td>\n",
       "      <td>0</td>\n",
       "    </tr>\n",
       "    <tr>\n",
       "      <th>3</th>\n",
       "      <td>#«የእኔንም የሕይወት ታሪክ አንዳንድ ሰዎች ባለማወቅና በመሳሳት ፡ ወይም...</td>\n",
       "      <td>0</td>\n",
       "      <td>1</td>\n",
       "      <td>0</td>\n",
       "      <td>0</td>\n",
       "      <td>1</td>\n",
       "      <td>0</td>\n",
       "    </tr>\n",
       "    <tr>\n",
       "      <th>4</th>\n",
       "      <td>የከተማ ወጣት ሰብስብክ መፎከር እኔም አላንስም  እስኪ መንግስት ምሰል በ...</td>\n",
       "      <td>0</td>\n",
       "      <td>0</td>\n",
       "      <td>0</td>\n",
       "      <td>0</td>\n",
       "      <td>1</td>\n",
       "      <td>0</td>\n",
       "    </tr>\n",
       "  </tbody>\n",
       "</table>\n",
       "</div>"
      ],
      "text/plain": [
       "                                                text  anger  disgust  fear  \\\n",
       "0  በሞጣ በተከሰተው ነገር አልገረምም እስካሁን ከበቂ በላይ ለፍልፌ ነበር ሕ...      0        1     0   \n",
       "1  ሰላም ለምድራችን ይሁን!\\nአንዳንዴ ዝም በማለትና ወሬ ባለማራገብ የሀገራ...      0        0     0   \n",
       "2   \"could you beloved\" የሚለውን የቦብ ማርሊይ ዘፈንን \"ፒቺንኪ...      0        1     0   \n",
       "3  #«የእኔንም የሕይወት ታሪክ አንዳንድ ሰዎች ባለማወቅና በመሳሳት ፡ ወይም...      0        1     0   \n",
       "4  የከተማ ወጣት ሰብስብክ መፎከር እኔም አላንስም  እስኪ መንግስት ምሰል በ...      0        0     0   \n",
       "\n",
       "   joy  sadness  surprise  \n",
       "0    0        0         0  \n",
       "1    1        0         0  \n",
       "2    1        0         0  \n",
       "3    0        1         0  \n",
       "4    0        1         0  "
      ]
     },
     "execution_count": 9,
     "metadata": {},
     "output_type": "execute_result"
    }
   ],
   "source": [
    "lab_deepseek_df.head()"
   ]
  },
  {
   "cell_type": "code",
   "execution_count": 20,
   "id": "785c5f37",
   "metadata": {},
   "outputs": [
    {
     "data": {
      "text/plain": [
       "Index(['Unnamed: 0', 'id', 'text', 'anger', 'disgust', 'fear', 'joy',\n",
       "       'sadness', 'surprise', 'translated_text'],\n",
       "      dtype='object')"
      ]
     },
     "execution_count": 20,
     "metadata": {},
     "output_type": "execute_result"
    }
   ],
   "source": [
    "df_conf = pd.read_csv(r\"amh_train_translated.csv\")\n",
    "df_conf.columns\n"
   ]
  },
  {
   "cell_type": "code",
   "execution_count": 23,
   "id": "b8965a10",
   "metadata": {},
   "outputs": [
    {
     "data": {
      "text/html": [
       "<div>\n",
       "<style scoped>\n",
       "    .dataframe tbody tr th:only-of-type {\n",
       "        vertical-align: middle;\n",
       "    }\n",
       "\n",
       "    .dataframe tbody tr th {\n",
       "        vertical-align: top;\n",
       "    }\n",
       "\n",
       "    .dataframe thead th {\n",
       "        text-align: right;\n",
       "    }\n",
       "</style>\n",
       "<table border=\"1\" class=\"dataframe\">\n",
       "  <thead>\n",
       "    <tr style=\"text-align: right;\">\n",
       "      <th></th>\n",
       "      <th>Unnamed: 0</th>\n",
       "      <th>translated_text</th>\n",
       "      <th>fear</th>\n",
       "      <th>disgust</th>\n",
       "      <th>joy</th>\n",
       "      <th>sadness</th>\n",
       "      <th>surprise</th>\n",
       "      <th>anger</th>\n",
       "      <th>Text</th>\n",
       "    </tr>\n",
       "  </thead>\n",
       "  <tbody>\n",
       "    <tr>\n",
       "      <th>0</th>\n",
       "      <td>0</td>\n",
       "      <td>شما هرگز یاد نمی‌گیرید، ای سرزمین وحشیان.</td>\n",
       "      <td>0</td>\n",
       "      <td>1</td>\n",
       "      <td>0</td>\n",
       "      <td>0</td>\n",
       "      <td>0</td>\n",
       "      <td>1</td>\n",
       "      <td>እናንተ መቸም አትማሩም ምድረ አውሬ ሁላ።</td>\n",
       "    </tr>\n",
       "    <tr>\n",
       "      <th>1</th>\n",
       "      <td>1</td>\n",
       "      <td>چرا سکوت کردید در برابر مرگ دکتر اسرائیل تلاون...</td>\n",
       "      <td>0</td>\n",
       "      <td>1</td>\n",
       "      <td>0</td>\n",
       "      <td>0</td>\n",
       "      <td>0</td>\n",
       "      <td>1</td>\n",
       "      <td>ምነው የዶክተር እስራኤል ጥላሁን ሞት በዝምታ አለፋችሁት ባለስልጣን ስለሆ...</td>\n",
       "    </tr>\n",
       "    <tr>\n",
       "      <th>2</th>\n",
       "      <td>2</td>\n",
       "      <td>همچنین، به دلیل اینکه این کار مردم آدیس آبابا ...</td>\n",
       "      <td>0</td>\n",
       "      <td>0</td>\n",
       "      <td>0</td>\n",
       "      <td>0</td>\n",
       "      <td>0</td>\n",
       "      <td>0</td>\n",
       "      <td>እንዲሁም ይህ እጅግ እርሶን የሚወዶት እና እጅግም የሚሳሳልዎን የአዲስአበ...</td>\n",
       "    </tr>\n",
       "    <tr>\n",
       "      <th>3</th>\n",
       "      <td>3</td>\n",
       "      <td>Etv شما نژادپرستان و خائنین، چندین پدران ما را...</td>\n",
       "      <td>0</td>\n",
       "      <td>1</td>\n",
       "      <td>0</td>\n",
       "      <td>0</td>\n",
       "      <td>0</td>\n",
       "      <td>1</td>\n",
       "      <td>Etv ዘረኛ ናቹሁ አሽቃባጭ ስንት አባቶቻችን መስዋት የሆኑበትን ባዲራ እ...</td>\n",
       "    </tr>\n",
       "    <tr>\n",
       "      <th>4</th>\n",
       "      <td>4</td>\n",
       "      <td>امروز بازی جذاب خواهد بود، ای فیلیپس، وقتی این...</td>\n",
       "      <td>0</td>\n",
       "      <td>1</td>\n",
       "      <td>1</td>\n",
       "      <td>0</td>\n",
       "      <td>0</td>\n",
       "      <td>0</td>\n",
       "      <td>የዛሬው የጦጣ ንክሻ ይለያል ክክ አይ ፊሊፖስ አንተ ጅማታም እንድህ ቅጥል...</td>\n",
       "    </tr>\n",
       "  </tbody>\n",
       "</table>\n",
       "</div>"
      ],
      "text/plain": [
       "   Unnamed: 0                                    translated_text  fear  \\\n",
       "0           0          شما هرگز یاد نمی‌گیرید، ای سرزمین وحشیان.     0   \n",
       "1           1  چرا سکوت کردید در برابر مرگ دکتر اسرائیل تلاون...     0   \n",
       "2           2  همچنین، به دلیل اینکه این کار مردم آدیس آبابا ...     0   \n",
       "3           3  Etv شما نژادپرستان و خائنین، چندین پدران ما را...     0   \n",
       "4           4  امروز بازی جذاب خواهد بود، ای فیلیپس، وقتی این...     0   \n",
       "\n",
       "   disgust  joy  sadness  surprise  anger  \\\n",
       "0        1    0        0         0      1   \n",
       "1        1    0        0         0      1   \n",
       "2        0    0        0         0      0   \n",
       "3        1    0        0         0      1   \n",
       "4        1    1        0         0      0   \n",
       "\n",
       "                                                Text  \n",
       "0                         እናንተ መቸም አትማሩም ምድረ አውሬ ሁላ።  \n",
       "1  ምነው የዶክተር እስራኤል ጥላሁን ሞት በዝምታ አለፋችሁት ባለስልጣን ስለሆ...  \n",
       "2  እንዲሁም ይህ እጅግ እርሶን የሚወዶት እና እጅግም የሚሳሳልዎን የአዲስአበ...  \n",
       "3  Etv ዘረኛ ናቹሁ አሽቃባጭ ስንት አባቶቻችን መስዋት የሆኑበትን ባዲራ እ...  \n",
       "4  የዛሬው የጦጣ ንክሻ ይለያል ክክ አይ ፊሊፖስ አንተ ጅማታም እንድህ ቅጥል...  "
      ]
     },
     "execution_count": 23,
     "metadata": {},
     "output_type": "execute_result"
    }
   ],
   "source": [
    "df_conf = df_conf[['Text', 'anger', 'disgust', 'fear', , 'joy', 'sadness', \n",
    "                   'surprise']]\n",
    "df_conf = df_conf.rename(columns = {'text':'Text'})\n",
    "df_conf.head()"
   ]
  },
  {
   "cell_type": "code",
   "execution_count": 18,
   "id": "b00083d4",
   "metadata": {},
   "outputs": [],
   "source": [
    "df_conf = df_conf.drop(columns = ['Unnamed: 0', 'translated_text'])"
   ]
  },
  {
   "cell_type": "code",
   "execution_count": 20,
   "id": "0441e207",
   "metadata": {},
   "outputs": [
    {
     "data": {
      "text/html": [
       "<div>\n",
       "<style scoped>\n",
       "    .dataframe tbody tr th:only-of-type {\n",
       "        vertical-align: middle;\n",
       "    }\n",
       "\n",
       "    .dataframe tbody tr th {\n",
       "        vertical-align: top;\n",
       "    }\n",
       "\n",
       "    .dataframe thead th {\n",
       "        text-align: right;\n",
       "    }\n",
       "</style>\n",
       "<table border=\"1\" class=\"dataframe\">\n",
       "  <thead>\n",
       "    <tr style=\"text-align: right;\">\n",
       "      <th></th>\n",
       "      <th>text</th>\n",
       "      <th>anger</th>\n",
       "      <th>disgust</th>\n",
       "      <th>fear</th>\n",
       "      <th>joy</th>\n",
       "      <th>sadness</th>\n",
       "      <th>surprise</th>\n",
       "    </tr>\n",
       "  </thead>\n",
       "  <tbody>\n",
       "    <tr>\n",
       "      <th>0</th>\n",
       "      <td>እናንተ መቸም አትማሩም ምድረ አውሬ ሁላ።</td>\n",
       "      <td>1</td>\n",
       "      <td>1</td>\n",
       "      <td>0</td>\n",
       "      <td>0</td>\n",
       "      <td>0</td>\n",
       "      <td>0</td>\n",
       "    </tr>\n",
       "    <tr>\n",
       "      <th>1</th>\n",
       "      <td>ምነው የዶክተር እስራኤል ጥላሁን ሞት በዝምታ አለፋችሁት ባለስልጣን ስለሆ...</td>\n",
       "      <td>1</td>\n",
       "      <td>1</td>\n",
       "      <td>0</td>\n",
       "      <td>0</td>\n",
       "      <td>0</td>\n",
       "      <td>0</td>\n",
       "    </tr>\n",
       "    <tr>\n",
       "      <th>2</th>\n",
       "      <td>እንዲሁም ይህ እጅግ እርሶን የሚወዶት እና እጅግም የሚሳሳልዎን የአዲስአበ...</td>\n",
       "      <td>0</td>\n",
       "      <td>0</td>\n",
       "      <td>0</td>\n",
       "      <td>0</td>\n",
       "      <td>0</td>\n",
       "      <td>0</td>\n",
       "    </tr>\n",
       "    <tr>\n",
       "      <th>3</th>\n",
       "      <td>Etv ዘረኛ ናቹሁ አሽቃባጭ ስንት አባቶቻችን መስዋት የሆኑበትን ባዲራ እ...</td>\n",
       "      <td>1</td>\n",
       "      <td>1</td>\n",
       "      <td>0</td>\n",
       "      <td>0</td>\n",
       "      <td>0</td>\n",
       "      <td>0</td>\n",
       "    </tr>\n",
       "    <tr>\n",
       "      <th>4</th>\n",
       "      <td>የዛሬው የጦጣ ንክሻ ይለያል ክክ አይ ፊሊፖስ አንተ ጅማታም እንድህ ቅጥል...</td>\n",
       "      <td>0</td>\n",
       "      <td>1</td>\n",
       "      <td>0</td>\n",
       "      <td>1</td>\n",
       "      <td>0</td>\n",
       "      <td>0</td>\n",
       "    </tr>\n",
       "  </tbody>\n",
       "</table>\n",
       "</div>"
      ],
      "text/plain": [
       "                                                text  anger  disgust  fear  \\\n",
       "0                         እናንተ መቸም አትማሩም ምድረ አውሬ ሁላ።      1        1     0   \n",
       "1  ምነው የዶክተር እስራኤል ጥላሁን ሞት በዝምታ አለፋችሁት ባለስልጣን ስለሆ...      1        1     0   \n",
       "2  እንዲሁም ይህ እጅግ እርሶን የሚወዶት እና እጅግም የሚሳሳልዎን የአዲስአበ...      0        0     0   \n",
       "3  Etv ዘረኛ ናቹሁ አሽቃባጭ ስንት አባቶቻችን መስዋት የሆኑበትን ባዲራ እ...      1        1     0   \n",
       "4  የዛሬው የጦጣ ንክሻ ይለያል ክክ አይ ፊሊፖስ አንተ ጅማታም እንድህ ቅጥል...      0        1     0   \n",
       "\n",
       "   joy  sadness  surprise  \n",
       "0    0        0         0  \n",
       "1    0        0         0  \n",
       "2    0        0         0  \n",
       "3    0        0         0  \n",
       "4    1        0         0  "
      ]
     },
     "execution_count": 20,
     "metadata": {},
     "output_type": "execute_result"
    }
   ],
   "source": [
    "df_conf = df_conf[['text', 'anger', 'disgust', 'fear','joy', 'sadness', \n",
    "                   'surprise']]\n",
    "df_conf.head()"
   ]
  },
  {
   "cell_type": "code",
   "execution_count": 34,
   "id": "b7a828b9",
   "metadata": {},
   "outputs": [],
   "source": [
    "main_amharic_df = pd.concat([df_conf, lab_deepseek_df])\n",
    "main_amharic_df.to_csv(r\"amharic_fina_1000.csv\", encoding = 'utf-8-sig')"
   ]
  },
  {
   "cell_type": "code",
   "execution_count": 44,
   "id": "ff71929b",
   "metadata": {},
   "outputs": [
    {
     "data": {
      "text/html": [
       "<div>\n",
       "<style scoped>\n",
       "    .dataframe tbody tr th:only-of-type {\n",
       "        vertical-align: middle;\n",
       "    }\n",
       "\n",
       "    .dataframe tbody tr th {\n",
       "        vertical-align: top;\n",
       "    }\n",
       "\n",
       "    .dataframe thead th {\n",
       "        text-align: right;\n",
       "    }\n",
       "</style>\n",
       "<table border=\"1\" class=\"dataframe\">\n",
       "  <thead>\n",
       "    <tr style=\"text-align: right;\">\n",
       "      <th></th>\n",
       "      <th>Text</th>\n",
       "      <th>anger</th>\n",
       "      <th>disgust</th>\n",
       "      <th>fear</th>\n",
       "      <th>joy</th>\n",
       "      <th>sadness</th>\n",
       "      <th>surprise</th>\n",
       "    </tr>\n",
       "  </thead>\n",
       "  <tbody>\n",
       "    <tr>\n",
       "      <th>0</th>\n",
       "      <td>እናንተ መቸም አትማሩም ምድረ አውሬ ሁላ።</td>\n",
       "      <td>1</td>\n",
       "      <td>1</td>\n",
       "      <td>0</td>\n",
       "      <td>0</td>\n",
       "      <td>0</td>\n",
       "      <td>0</td>\n",
       "    </tr>\n",
       "    <tr>\n",
       "      <th>1</th>\n",
       "      <td>ምነው የዶክተር እስራኤል ጥላሁን ሞት በዝምታ አለፋችሁት ባለስልጣን ስለሆ...</td>\n",
       "      <td>1</td>\n",
       "      <td>1</td>\n",
       "      <td>0</td>\n",
       "      <td>0</td>\n",
       "      <td>0</td>\n",
       "      <td>0</td>\n",
       "    </tr>\n",
       "    <tr>\n",
       "      <th>2</th>\n",
       "      <td>እንዲሁም ይህ እጅግ እርሶን የሚወዶት እና እጅግም የሚሳሳልዎን የአዲስአበ...</td>\n",
       "      <td>0</td>\n",
       "      <td>0</td>\n",
       "      <td>0</td>\n",
       "      <td>0</td>\n",
       "      <td>0</td>\n",
       "      <td>0</td>\n",
       "    </tr>\n",
       "    <tr>\n",
       "      <th>3</th>\n",
       "      <td>Etv ዘረኛ ናቹሁ አሽቃባጭ ስንት አባቶቻችን መስዋት የሆኑበትን ባዲራ እ...</td>\n",
       "      <td>1</td>\n",
       "      <td>1</td>\n",
       "      <td>0</td>\n",
       "      <td>0</td>\n",
       "      <td>0</td>\n",
       "      <td>0</td>\n",
       "    </tr>\n",
       "    <tr>\n",
       "      <th>4</th>\n",
       "      <td>የዛሬው የጦጣ ንክሻ ይለያል ክክ አይ ፊሊፖስ አንተ ጅማታም እንድህ ቅጥል...</td>\n",
       "      <td>0</td>\n",
       "      <td>1</td>\n",
       "      <td>0</td>\n",
       "      <td>1</td>\n",
       "      <td>0</td>\n",
       "      <td>0</td>\n",
       "    </tr>\n",
       "  </tbody>\n",
       "</table>\n",
       "</div>"
      ],
      "text/plain": [
       "                                                Text  anger  disgust  fear  \\\n",
       "0                         እናንተ መቸም አትማሩም ምድረ አውሬ ሁላ።      1        1     0   \n",
       "1  ምነው የዶክተር እስራኤል ጥላሁን ሞት በዝምታ አለፋችሁት ባለስልጣን ስለሆ...      1        1     0   \n",
       "2  እንዲሁም ይህ እጅግ እርሶን የሚወዶት እና እጅግም የሚሳሳልዎን የአዲስአበ...      0        0     0   \n",
       "3  Etv ዘረኛ ናቹሁ አሽቃባጭ ስንት አባቶቻችን መስዋት የሆኑበትን ባዲራ እ...      1        1     0   \n",
       "4  የዛሬው የጦጣ ንክሻ ይለያል ክክ አይ ፊሊፖስ አንተ ጅማታም እንድህ ቅጥል...      0        1     0   \n",
       "\n",
       "   joy  sadness  surprise  \n",
       "0    0        0         0  \n",
       "1    0        0         0  \n",
       "2    0        0         0  \n",
       "3    0        0         0  \n",
       "4    1        0         0  "
      ]
     },
     "execution_count": 44,
     "metadata": {},
     "output_type": "execute_result"
    }
   ],
   "source": [
    "main_amharic_df.head()"
   ]
  },
  {
   "cell_type": "code",
   "execution_count": 40,
   "id": "5a1cb7a8",
   "metadata": {},
   "outputs": [
    {
     "data": {
      "text/plain": [
       "0    4245\n",
       "1     285\n",
       "Name: fear, dtype: int64"
      ]
     },
     "execution_count": 40,
     "metadata": {},
     "output_type": "execute_result"
    }
   ],
   "source": [
    "main_amharic_df['fear'].value_counts()"
   ]
  },
  {
   "cell_type": "code",
   "execution_count": 39,
   "id": "02ed1d68",
   "metadata": {},
   "outputs": [
    {
     "data": {
      "text/plain": [
       "0    4327\n",
       "1     203\n",
       "Name: surprise, dtype: int64"
      ]
     },
     "execution_count": 39,
     "metadata": {},
     "output_type": "execute_result"
    }
   ],
   "source": [
    "main_amharic_df['surprise'].value_counts()"
   ]
  },
  {
   "cell_type": "code",
   "execution_count": 41,
   "id": "ba11c5a1",
   "metadata": {},
   "outputs": [
    {
     "data": {
      "text/plain": [
       "0    3578\n",
       "1     952\n",
       "Name: joy, dtype: int64"
      ]
     },
     "execution_count": 41,
     "metadata": {},
     "output_type": "execute_result"
    }
   ],
   "source": [
    "main_amharic_df['joy'].value_counts()"
   ]
  },
  {
   "cell_type": "code",
   "execution_count": 42,
   "id": "436c15d7",
   "metadata": {},
   "outputs": [
    {
     "data": {
      "text/plain": [
       "0    3587\n",
       "1     943\n",
       "Name: sadness, dtype: int64"
      ]
     },
     "execution_count": 42,
     "metadata": {},
     "output_type": "execute_result"
    }
   ],
   "source": [
    "main_amharic_df['sadness'].value_counts()"
   ]
  },
  {
   "cell_type": "code",
   "execution_count": 24,
   "id": "97c3b9f2",
   "metadata": {},
   "outputs": [
    {
     "name": "stdout",
     "output_type": "stream",
     "text": [
      "(1717, 7)\n"
     ]
    },
    {
     "name": "stderr",
     "output_type": "stream",
     "text": [
      "C:\\Users\\test12\\AppData\\Local\\Temp\\ipykernel_28036\\1708837792.py:10: SettingWithCopyWarning: \n",
      "A value is trying to be set on a copy of a slice from a DataFrame.\n",
      "Try using .loc[row_indexer,col_indexer] = value instead\n",
      "\n",
      "See the caveats in the documentation: https://pandas.pydata.org/pandas-docs/stable/user_guide/indexing.html#returning-a-view-versus-a-copy\n",
      "  df[col] = df[col].astype(int)\n"
     ]
    }
   ],
   "source": [
    "import pandas as pd\n",
    "\n",
    "sentiment_columns = [\"joy\", \"anger\", \"fear\", \"disgust\", \"sadness\", \"surprise\"]\n",
    "\n",
    "def filter_dataframe(df):\n",
    "    # Iterate through each row\n",
    "    df = df[(df['text'].apply(len) > 10) & (df['text'].apply(len) < 600)]\n",
    "    \n",
    "    for col in sentiment_columns:\n",
    "        df[col] = df[col].astype(int)\n",
    "\n",
    "    for col in sentiment_columns:\n",
    "        df = df[df[col] <= 1] \n",
    "\n",
    "    return df\n",
    "\n",
    "lab_deepseek_df = filter_dataframe(lab_deepseek_df)\n",
    "\n",
    "print(lab_deepseek_df.shape)\n",
    "\n",
    "# main_amharic_df.to_csv(r\"C:\\Users\\test12\\Desktop\\semivalcreate_dataset\\amharic_fina_2000.csv\", encoding = 'utf-8-sig')"
   ]
  },
  {
   "cell_type": "code",
   "execution_count": 21,
   "id": "d048e749",
   "metadata": {},
   "outputs": [
    {
     "data": {
      "text/html": [
       "<div>\n",
       "<style scoped>\n",
       "    .dataframe tbody tr th:only-of-type {\n",
       "        vertical-align: middle;\n",
       "    }\n",
       "\n",
       "    .dataframe tbody tr th {\n",
       "        vertical-align: top;\n",
       "    }\n",
       "\n",
       "    .dataframe thead th {\n",
       "        text-align: right;\n",
       "    }\n",
       "</style>\n",
       "<table border=\"1\" class=\"dataframe\">\n",
       "  <thead>\n",
       "    <tr style=\"text-align: right;\">\n",
       "      <th></th>\n",
       "      <th>text</th>\n",
       "      <th>anger</th>\n",
       "      <th>disgust</th>\n",
       "      <th>fear</th>\n",
       "      <th>joy</th>\n",
       "      <th>sadness</th>\n",
       "      <th>surprise</th>\n",
       "    </tr>\n",
       "  </thead>\n",
       "  <tbody>\n",
       "    <tr>\n",
       "      <th>0</th>\n",
       "      <td>እናንተ መቸም አትማሩም ምድረ አውሬ ሁላ።</td>\n",
       "      <td>1</td>\n",
       "      <td>1</td>\n",
       "      <td>0</td>\n",
       "      <td>0</td>\n",
       "      <td>0</td>\n",
       "      <td>0</td>\n",
       "    </tr>\n",
       "    <tr>\n",
       "      <th>1</th>\n",
       "      <td>ምነው የዶክተር እስራኤል ጥላሁን ሞት በዝምታ አለፋችሁት ባለስልጣን ስለሆ...</td>\n",
       "      <td>1</td>\n",
       "      <td>1</td>\n",
       "      <td>0</td>\n",
       "      <td>0</td>\n",
       "      <td>0</td>\n",
       "      <td>0</td>\n",
       "    </tr>\n",
       "    <tr>\n",
       "      <th>2</th>\n",
       "      <td>እንዲሁም ይህ እጅግ እርሶን የሚወዶት እና እጅግም የሚሳሳልዎን የአዲስአበ...</td>\n",
       "      <td>0</td>\n",
       "      <td>0</td>\n",
       "      <td>0</td>\n",
       "      <td>0</td>\n",
       "      <td>0</td>\n",
       "      <td>0</td>\n",
       "    </tr>\n",
       "    <tr>\n",
       "      <th>3</th>\n",
       "      <td>Etv ዘረኛ ናቹሁ አሽቃባጭ ስንት አባቶቻችን መስዋት የሆኑበትን ባዲራ እ...</td>\n",
       "      <td>1</td>\n",
       "      <td>1</td>\n",
       "      <td>0</td>\n",
       "      <td>0</td>\n",
       "      <td>0</td>\n",
       "      <td>0</td>\n",
       "    </tr>\n",
       "    <tr>\n",
       "      <th>4</th>\n",
       "      <td>የዛሬው የጦጣ ንክሻ ይለያል ክክ አይ ፊሊፖስ አንተ ጅማታም እንድህ ቅጥል...</td>\n",
       "      <td>0</td>\n",
       "      <td>1</td>\n",
       "      <td>0</td>\n",
       "      <td>1</td>\n",
       "      <td>0</td>\n",
       "      <td>0</td>\n",
       "    </tr>\n",
       "  </tbody>\n",
       "</table>\n",
       "</div>"
      ],
      "text/plain": [
       "                                                text  anger  disgust  fear  \\\n",
       "0                         እናንተ መቸም አትማሩም ምድረ አውሬ ሁላ።      1        1     0   \n",
       "1  ምነው የዶክተር እስራኤል ጥላሁን ሞት በዝምታ አለፋችሁት ባለስልጣን ስለሆ...      1        1     0   \n",
       "2  እንዲሁም ይህ እጅግ እርሶን የሚወዶት እና እጅግም የሚሳሳልዎን የአዲስአበ...      0        0     0   \n",
       "3  Etv ዘረኛ ናቹሁ አሽቃባጭ ስንት አባቶቻችን መስዋት የሆኑበትን ባዲራ እ...      1        1     0   \n",
       "4  የዛሬው የጦጣ ንክሻ ይለያል ክክ አይ ፊሊፖስ አንተ ጅማታም እንድህ ቅጥል...      0        1     0   \n",
       "\n",
       "   joy  sadness  surprise  \n",
       "0    0        0         0  \n",
       "1    0        0         0  \n",
       "2    0        0         0  \n",
       "3    0        0         0  \n",
       "4    1        0         0  "
      ]
     },
     "execution_count": 21,
     "metadata": {},
     "output_type": "execute_result"
    }
   ],
   "source": [
    "df_conf.head()"
   ]
  },
  {
   "cell_type": "code",
   "execution_count": null,
   "id": "fdee7141",
   "metadata": {},
   "outputs": [],
   "source": [
    "lab_deepseek_df.head()"
   ]
  },
  {
   "cell_type": "code",
   "execution_count": 26,
   "id": "ad847bba",
   "metadata": {},
   "outputs": [
    {
     "data": {
      "text/plain": [
       "0    1028\n",
       "1     689\n",
       "Name: joy, dtype: int64"
      ]
     },
     "execution_count": 26,
     "metadata": {},
     "output_type": "execute_result"
    }
   ],
   "source": [
    "lab_deepseek_df['joy'].value_counts()"
   ]
  },
  {
   "cell_type": "code",
   "execution_count": 27,
   "id": "c70bfd2c",
   "metadata": {},
   "outputs": [],
   "source": [
    "surprise_rows = lab_deepseek_df[lab_deepseek_df['surprise'] == 1]\n",
    "fear_rows = lab_deepseek_df[lab_deepseek_df['fear'] == 1]\n",
    "joy_rows = lab_deepseek_df[lab_deepseek_df['joy'] == 1]"
   ]
  },
  {
   "cell_type": "code",
   "execution_count": 28,
   "id": "81acc1ec",
   "metadata": {},
   "outputs": [
    {
     "data": {
      "text/plain": [
       "(1060, 7)"
      ]
     },
     "execution_count": 28,
     "metadata": {},
     "output_type": "execute_result"
    }
   ],
   "source": [
    "all_sent_df = pd.concat([surprise_rows, fear_rows, joy_rows])\n",
    "all_sent_df.shape"
   ]
  },
  {
   "cell_type": "code",
   "execution_count": 29,
   "id": "6742311e",
   "metadata": {},
   "outputs": [
    {
     "data": {
      "text/plain": [
       "0    1001\n",
       "1     178\n",
       "Name: fear, dtype: int64"
      ]
     },
     "execution_count": 29,
     "metadata": {},
     "output_type": "execute_result"
    }
   ],
   "source": [
    "amh_df = pd.read_csv(r\"repo_amharic_train_1.csv\")\n",
    "amh_df['fear'].value_counts()"
   ]
  },
  {
   "cell_type": "code",
   "execution_count": 31,
   "id": "d067747e",
   "metadata": {},
   "outputs": [
    {
     "data": {
      "text/plain": [
       "(643, 7)"
      ]
     },
     "execution_count": 31,
     "metadata": {},
     "output_type": "execute_result"
    }
   ],
   "source": [
    "surprise_rows = amh_df[amh_df['surprise'] == 1]\n",
    "fear_rows = amh_df[amh_df['fear'] == 1]\n",
    "joy_rows = amh_df[amh_df['joy'] == 1]\n",
    "\n",
    "all_old_sent_df = pd.concat([surprise_rows, fear_rows, joy_rows])\n",
    "all_old_sent_df.shape"
   ]
  },
  {
   "cell_type": "code",
   "execution_count": 32,
   "id": "a1de34f8",
   "metadata": {},
   "outputs": [
    {
     "data": {
      "text/plain": [
       "(1703, 7)"
      ]
     },
     "execution_count": 32,
     "metadata": {},
     "output_type": "execute_result"
    }
   ],
   "source": [
    "all_sentiment_df = pd.concat([all_old_sent_df, all_sent_df])\n",
    "all_sentiment_df.shape"
   ]
  },
  {
   "cell_type": "code",
   "execution_count": 33,
   "id": "a8ecd496",
   "metadata": {},
   "outputs": [
    {
     "data": {
      "text/html": [
       "<div>\n",
       "<style scoped>\n",
       "    .dataframe tbody tr th:only-of-type {\n",
       "        vertical-align: middle;\n",
       "    }\n",
       "\n",
       "    .dataframe tbody tr th {\n",
       "        vertical-align: top;\n",
       "    }\n",
       "\n",
       "    .dataframe thead th {\n",
       "        text-align: right;\n",
       "    }\n",
       "</style>\n",
       "<table border=\"1\" class=\"dataframe\">\n",
       "  <thead>\n",
       "    <tr style=\"text-align: right;\">\n",
       "      <th></th>\n",
       "      <th>text</th>\n",
       "      <th>anger</th>\n",
       "      <th>disgust</th>\n",
       "      <th>fear</th>\n",
       "      <th>joy</th>\n",
       "      <th>sadness</th>\n",
       "      <th>surprise</th>\n",
       "    </tr>\n",
       "  </thead>\n",
       "  <tbody>\n",
       "    <tr>\n",
       "      <th>7</th>\n",
       "      <td>@fitih11 ይቺን አውቆ ነው ዶ/ር አብይ ክርስቲያን የሆነዋ..........</td>\n",
       "      <td>0</td>\n",
       "      <td>1</td>\n",
       "      <td>0</td>\n",
       "      <td>0</td>\n",
       "      <td>0</td>\n",
       "      <td>1</td>\n",
       "    </tr>\n",
       "    <tr>\n",
       "      <th>47</th>\n",
       "      <td>@heyab_ በጣም ስውር ህዝብም ጭምር:: እኔ የሰዉ ሂሉን እሺ ብሎ መቻ...</td>\n",
       "      <td>0</td>\n",
       "      <td>0</td>\n",
       "      <td>1</td>\n",
       "      <td>0</td>\n",
       "      <td>0</td>\n",
       "      <td>1</td>\n",
       "    </tr>\n",
       "    <tr>\n",
       "      <th>51</th>\n",
       "      <td>ከዓፋር ወጣቶች የተላለፈው አስቸኳይ መልእክት!\\n\\nየዓፋር ወጣቶች የአማ...</td>\n",
       "      <td>0</td>\n",
       "      <td>0</td>\n",
       "      <td>1</td>\n",
       "      <td>0</td>\n",
       "      <td>0</td>\n",
       "      <td>1</td>\n",
       "    </tr>\n",
       "    <tr>\n",
       "      <th>125</th>\n",
       "      <td>የአዋሽ ባንክ የባለአክሲዮኖች 24ኛ መደበኛና 16ኛ ድንገተኛ ጠቅላላ ጉባ...</td>\n",
       "      <td>0</td>\n",
       "      <td>0</td>\n",
       "      <td>0</td>\n",
       "      <td>1</td>\n",
       "      <td>0</td>\n",
       "      <td>1</td>\n",
       "    </tr>\n",
       "    <tr>\n",
       "      <th>145</th>\n",
       "      <td>@tiletsige27 አትሌት ኃይሌ በጣም ጠቃሚ ነገሮችን በሃገራችን እየሰ...</td>\n",
       "      <td>0</td>\n",
       "      <td>0</td>\n",
       "      <td>0</td>\n",
       "      <td>1</td>\n",
       "      <td>0</td>\n",
       "      <td>1</td>\n",
       "    </tr>\n",
       "  </tbody>\n",
       "</table>\n",
       "</div>"
      ],
      "text/plain": [
       "                                                  text  anger  disgust  fear  \\\n",
       "7    @fitih11 ይቺን አውቆ ነው ዶ/ር አብይ ክርስቲያን የሆነዋ..........      0        1     0   \n",
       "47   @heyab_ በጣም ስውር ህዝብም ጭምር:: እኔ የሰዉ ሂሉን እሺ ብሎ መቻ...      0        0     1   \n",
       "51   ከዓፋር ወጣቶች የተላለፈው አስቸኳይ መልእክት!\\n\\nየዓፋር ወጣቶች የአማ...      0        0     1   \n",
       "125  የአዋሽ ባንክ የባለአክሲዮኖች 24ኛ መደበኛና 16ኛ ድንገተኛ ጠቅላላ ጉባ...      0        0     0   \n",
       "145  @tiletsige27 አትሌት ኃይሌ በጣም ጠቃሚ ነገሮችን በሃገራችን እየሰ...      0        0     0   \n",
       "\n",
       "     joy  sadness  surprise  \n",
       "7      0        0         1  \n",
       "47     0        0         1  \n",
       "51     0        0         1  \n",
       "125    1        0         1  \n",
       "145    1        0         1  "
      ]
     },
     "execution_count": 33,
     "metadata": {},
     "output_type": "execute_result"
    }
   ],
   "source": [
    "all_sentiment_df.head()"
   ]
  },
  {
   "cell_type": "code",
   "execution_count": 34,
   "id": "c07f6251",
   "metadata": {},
   "outputs": [
    {
     "data": {
      "text/html": [
       "<div>\n",
       "<style scoped>\n",
       "    .dataframe tbody tr th:only-of-type {\n",
       "        vertical-align: middle;\n",
       "    }\n",
       "\n",
       "    .dataframe tbody tr th {\n",
       "        vertical-align: top;\n",
       "    }\n",
       "\n",
       "    .dataframe thead th {\n",
       "        text-align: right;\n",
       "    }\n",
       "</style>\n",
       "<table border=\"1\" class=\"dataframe\">\n",
       "  <thead>\n",
       "    <tr style=\"text-align: right;\">\n",
       "      <th></th>\n",
       "      <th>text</th>\n",
       "      <th>anger</th>\n",
       "      <th>disgust</th>\n",
       "      <th>fear</th>\n",
       "      <th>joy</th>\n",
       "      <th>sadness</th>\n",
       "      <th>surprise</th>\n",
       "    </tr>\n",
       "  </thead>\n",
       "  <tbody>\n",
       "    <tr>\n",
       "      <th>7</th>\n",
       "      <td>ይቺን አውቆ ነው ዶ/ር አብይ ክርስቲያን የሆነዋ.......ኧረ ጀንፈሉ ...</td>\n",
       "      <td>0</td>\n",
       "      <td>1</td>\n",
       "      <td>0</td>\n",
       "      <td>0</td>\n",
       "      <td>0</td>\n",
       "      <td>1</td>\n",
       "    </tr>\n",
       "    <tr>\n",
       "      <th>47</th>\n",
       "      <td>በጣም ስውር ህዝብም ጭምር:: እኔ የሰዉ ሂሉን እሺ ብሎ መቻል በጣም ነ...</td>\n",
       "      <td>0</td>\n",
       "      <td>0</td>\n",
       "      <td>1</td>\n",
       "      <td>0</td>\n",
       "      <td>0</td>\n",
       "      <td>1</td>\n",
       "    </tr>\n",
       "    <tr>\n",
       "      <th>51</th>\n",
       "      <td>ከዓፋር ወጣቶች የተላለፈው አስቸኳይ መልእክት!\\n\\nየዓፋር ወጣቶች የአማ...</td>\n",
       "      <td>0</td>\n",
       "      <td>0</td>\n",
       "      <td>1</td>\n",
       "      <td>0</td>\n",
       "      <td>0</td>\n",
       "      <td>1</td>\n",
       "    </tr>\n",
       "    <tr>\n",
       "      <th>125</th>\n",
       "      <td>የአዋሽ ባንክ የባለአክሲዮኖች 24ኛ መደበኛና 16ኛ ድንገተኛ ጠቅላላ ጉባ...</td>\n",
       "      <td>0</td>\n",
       "      <td>0</td>\n",
       "      <td>0</td>\n",
       "      <td>1</td>\n",
       "      <td>0</td>\n",
       "      <td>1</td>\n",
       "    </tr>\n",
       "    <tr>\n",
       "      <th>145</th>\n",
       "      <td>አትሌት ኃይሌ በጣም ጠቃሚ ነገሮችን በሃገራችን እየሰራ ነው እጅግ ሊደነ...</td>\n",
       "      <td>0</td>\n",
       "      <td>0</td>\n",
       "      <td>0</td>\n",
       "      <td>1</td>\n",
       "      <td>0</td>\n",
       "      <td>1</td>\n",
       "    </tr>\n",
       "  </tbody>\n",
       "</table>\n",
       "</div>"
      ],
      "text/plain": [
       "                                                  text  anger  disgust  fear  \\\n",
       "7     ይቺን አውቆ ነው ዶ/ር አብይ ክርስቲያን የሆነዋ.......ኧረ ጀንፈሉ ...      0        1     0   \n",
       "47    በጣም ስውር ህዝብም ጭምር:: እኔ የሰዉ ሂሉን እሺ ብሎ መቻል በጣም ነ...      0        0     1   \n",
       "51   ከዓፋር ወጣቶች የተላለፈው አስቸኳይ መልእክት!\\n\\nየዓፋር ወጣቶች የአማ...      0        0     1   \n",
       "125  የአዋሽ ባንክ የባለአክሲዮኖች 24ኛ መደበኛና 16ኛ ድንገተኛ ጠቅላላ ጉባ...      0        0     0   \n",
       "145   አትሌት ኃይሌ በጣም ጠቃሚ ነገሮችን በሃገራችን እየሰራ ነው እጅግ ሊደነ...      0        0     0   \n",
       "\n",
       "     joy  sadness  surprise  \n",
       "7      0        0         1  \n",
       "47     0        0         1  \n",
       "51     0        0         1  \n",
       "125    1        0         1  \n",
       "145    1        0         1  "
      ]
     },
     "execution_count": 34,
     "metadata": {},
     "output_type": "execute_result"
    }
   ],
   "source": [
    "\n",
    "clean_config = {\n",
    "    'remove_url': True,\n",
    "    'remove_mentions': True,\n",
    "    'lowercase': True,\n",
    "    'demojify': True\n",
    "    }\n",
    "\n",
    "all_sentiment_df['text'] = all_sentiment_df['text'].apply(clean_text, args=(clean_config,))\n",
    "all_sentiment_df.head()"
   ]
  },
  {
   "cell_type": "code",
   "execution_count": 35,
   "id": "00a1dba1",
   "metadata": {},
   "outputs": [
    {
     "data": {
      "text/html": [
       "<div>\n",
       "<style scoped>\n",
       "    .dataframe tbody tr th:only-of-type {\n",
       "        vertical-align: middle;\n",
       "    }\n",
       "\n",
       "    .dataframe tbody tr th {\n",
       "        vertical-align: top;\n",
       "    }\n",
       "\n",
       "    .dataframe thead th {\n",
       "        text-align: right;\n",
       "    }\n",
       "</style>\n",
       "<table border=\"1\" class=\"dataframe\">\n",
       "  <thead>\n",
       "    <tr style=\"text-align: right;\">\n",
       "      <th></th>\n",
       "      <th>text</th>\n",
       "      <th>anger</th>\n",
       "      <th>disgust</th>\n",
       "      <th>fear</th>\n",
       "      <th>joy</th>\n",
       "      <th>sadness</th>\n",
       "      <th>surprise</th>\n",
       "    </tr>\n",
       "  </thead>\n",
       "  <tbody>\n",
       "    <tr>\n",
       "      <th>0</th>\n",
       "      <td>እናንተ መቸም አትማሩም ምድረ አውሬ ሁላ።</td>\n",
       "      <td>1</td>\n",
       "      <td>1</td>\n",
       "      <td>0</td>\n",
       "      <td>0</td>\n",
       "      <td>0</td>\n",
       "      <td>0</td>\n",
       "    </tr>\n",
       "    <tr>\n",
       "      <th>1</th>\n",
       "      <td>ምነው የዶክተር እስራኤል ጥላሁን ሞት በዝምታ አለፋችሁት ባለስልጣን ስለሆ...</td>\n",
       "      <td>1</td>\n",
       "      <td>1</td>\n",
       "      <td>0</td>\n",
       "      <td>0</td>\n",
       "      <td>0</td>\n",
       "      <td>0</td>\n",
       "    </tr>\n",
       "    <tr>\n",
       "      <th>2</th>\n",
       "      <td>እንዲሁም ይህ እጅግ እርሶን የሚወዶት እና እጅግም የሚሳሳልዎን የአዲስአበ...</td>\n",
       "      <td>0</td>\n",
       "      <td>0</td>\n",
       "      <td>0</td>\n",
       "      <td>0</td>\n",
       "      <td>0</td>\n",
       "      <td>0</td>\n",
       "    </tr>\n",
       "    <tr>\n",
       "      <th>3</th>\n",
       "      <td>Etv ዘረኛ ናቹሁ አሽቃባጭ ስንት አባቶቻችን መስዋት የሆኑበትን ባዲራ እ...</td>\n",
       "      <td>1</td>\n",
       "      <td>1</td>\n",
       "      <td>0</td>\n",
       "      <td>0</td>\n",
       "      <td>0</td>\n",
       "      <td>0</td>\n",
       "    </tr>\n",
       "    <tr>\n",
       "      <th>4</th>\n",
       "      <td>የዛሬው የጦጣ ንክሻ ይለያል ክክ አይ ፊሊፖስ አንተ ጅማታም እንድህ ቅጥል...</td>\n",
       "      <td>0</td>\n",
       "      <td>1</td>\n",
       "      <td>0</td>\n",
       "      <td>1</td>\n",
       "      <td>0</td>\n",
       "      <td>0</td>\n",
       "    </tr>\n",
       "  </tbody>\n",
       "</table>\n",
       "</div>"
      ],
      "text/plain": [
       "                                                text  anger  disgust  fear  \\\n",
       "0                         እናንተ መቸም አትማሩም ምድረ አውሬ ሁላ።      1        1     0   \n",
       "1  ምነው የዶክተር እስራኤል ጥላሁን ሞት በዝምታ አለፋችሁት ባለስልጣን ስለሆ...      1        1     0   \n",
       "2  እንዲሁም ይህ እጅግ እርሶን የሚወዶት እና እጅግም የሚሳሳልዎን የአዲስአበ...      0        0     0   \n",
       "3  Etv ዘረኛ ናቹሁ አሽቃባጭ ስንት አባቶቻችን መስዋት የሆኑበትን ባዲራ እ...      1        1     0   \n",
       "4  የዛሬው የጦጣ ንክሻ ይለያል ክክ አይ ፊሊፖስ አንተ ጅማታም እንድህ ቅጥል...      0        1     0   \n",
       "\n",
       "   joy  sadness  surprise  \n",
       "0    0        0         0  \n",
       "1    0        0         0  \n",
       "2    0        0         0  \n",
       "3    0        0         0  \n",
       "4    1        0         0  "
      ]
     },
     "execution_count": 35,
     "metadata": {},
     "output_type": "execute_result"
    }
   ],
   "source": [
    "df_conf.head()"
   ]
  },
  {
   "cell_type": "code",
   "execution_count": 37,
   "id": "53a06325",
   "metadata": {},
   "outputs": [
    {
     "data": {
      "text/plain": [
       "(5251, 7)"
      ]
     },
     "execution_count": 37,
     "metadata": {},
     "output_type": "execute_result"
    }
   ],
   "source": [
    "finalllll_df = pd.concat([df_conf, all_sentiment_df])\n",
    "finalllll_df.shape"
   ]
  },
  {
   "cell_type": "code",
   "execution_count": null,
   "id": "29a3109d",
   "metadata": {},
   "outputs": [],
   "source": [
    "\n",
    "finalllll_df = filter_dataframe(finalllll_df)\n",
    "\n",
    "print(finalllll_df.shape)"
   ]
  },
  {
   "cell_type": "code",
   "execution_count": 46,
   "id": "d2609cca",
   "metadata": {},
   "outputs": [
    {
     "data": {
      "text/plain": [
       "0    4874\n",
       "1     367\n",
       "Name: surprise, dtype: int64"
      ]
     },
     "execution_count": 46,
     "metadata": {},
     "output_type": "execute_result"
    }
   ],
   "source": [
    "finalllll_df['surprise'].value_counts()"
   ]
  },
  {
   "cell_type": "code",
   "execution_count": 45,
   "id": "9d1d5fa7",
   "metadata": {},
   "outputs": [],
   "source": [
    "finalllll_df.to_csv(r\"finall_amharic_dff.csv\", encoding='utf-8-sig')"
   ]
  },
  {
   "cell_type": "code",
   "execution_count": 75,
   "id": "6a9e93fc",
   "metadata": {},
   "outputs": [
    {
     "data": {
      "text/plain": [
       "(3317, 7)"
      ]
     },
     "execution_count": 75,
     "metadata": {},
     "output_type": "execute_result"
    }
   ],
   "source": [
    "surprise_rows = finalllll_df[finalllll_df['surprise'] == 1]\n",
    "fear_rows = finalllll_df[finalllll_df['fear'] == 1]\n",
    "joy_rows = finalllll_df[finalllll_df['joy'] == 1][:800]\n",
    "anger_rows = finalllll_df[finalllll_df['anger'] == 1][:500]\n",
    "disgust_rows = finalllll_df[finalllll_df['disgust'] == 1][:500]\n",
    "sadness_rows = finalllll_df[finalllll_df['sadness'] == 1][:500]\n",
    "\n",
    "all_sentiment_df = pd.concat([sadness_rows, surprise_rows, fear_rows, joy_rows, anger_rows, disgust_rows])\n",
    "all_sentiment_df.shape"
   ]
  },
  {
   "cell_type": "code",
   "execution_count": 78,
   "id": "b94d8918",
   "metadata": {},
   "outputs": [
    {
     "name": "stdout",
     "output_type": "stream",
     "text": [
      "0    2450\n",
      "1     867\n",
      "Name: sadness, dtype: int64\n",
      "0    2352\n",
      "1     965\n",
      "Name: anger, dtype: int64\n",
      "0    2339\n",
      "1     978\n",
      "Name: joy, dtype: int64\n",
      "0    2328\n",
      "1     989\n",
      "Name: disgust, dtype: int64\n",
      "0    2740\n",
      "1     577\n",
      "Name: surprise, dtype: int64\n",
      "0    2515\n",
      "1     802\n",
      "Name: fear, dtype: int64\n"
     ]
    }
   ],
   "source": [
    "print(all_sentiment_df['sadness'].value_counts())\n",
    "print(all_sentiment_df['anger'].value_counts())\n",
    "print(all_sentiment_df['joy'].value_counts())\n",
    "print(all_sentiment_df['disgust'].value_counts())\n",
    "print(all_sentiment_df['surprise'].value_counts())\n",
    "print(all_sentiment_df['fear'].value_counts())"
   ]
  },
  {
   "cell_type": "code",
   "execution_count": 77,
   "id": "f89bd6f7",
   "metadata": {},
   "outputs": [],
   "source": [
    "all_sentiment_df.to_csv(r\"finall_amharic_balanced_df.csv\", encoding='utf-8-sig')"
   ]
  }
 ],
 "metadata": {
  "kernelspec": {
   "display_name": "Python 3 (ipykernel)",
   "language": "python",
   "name": "python3"
  },
  "language_info": {
   "codemirror_mode": {
    "name": "ipython",
    "version": 3
   },
   "file_extension": ".py",
   "mimetype": "text/x-python",
   "name": "python",
   "nbconvert_exporter": "python",
   "pygments_lexer": "ipython3",
   "version": "3.11.5"
  }
 },
 "nbformat": 4,
 "nbformat_minor": 5
}
